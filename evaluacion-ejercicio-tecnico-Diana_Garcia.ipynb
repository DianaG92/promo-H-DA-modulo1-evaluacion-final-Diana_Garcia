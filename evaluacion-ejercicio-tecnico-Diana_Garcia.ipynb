{
 "cells": [
  {
   "cell_type": "markdown",
   "metadata": {},
   "source": [
    "#### EVALUACIÓN FINAL MÓDULO 1"
   ]
  },
  {
   "cell_type": "markdown",
   "metadata": {},
   "source": [
    "EJERCICIOS OBLIGATORIOS"
   ]
  },
  {
   "cell_type": "code",
   "execution_count": 96,
   "metadata": {},
   "outputs": [],
   "source": [
    "class TiendaOnline:\n",
    "    \n",
    "    def __init__(self):\n",
    "        self.inventario = []\n",
    "        self.clientes = {}\n",
    "        self.ventas_totales = 0.0\n",
    "\n",
    "    def agregar_producto(self, nombre, precio, cantidad):\n",
    "        self.inventario.append({'nombre': nombre, 'precio': precio, 'cantidad': cantidad})\n",
    "        \n",
    "    def ver_inventario(self):\n",
    "        for producto in self.inventario:\n",
    "            print(f\"Nombre: {producto['nombre']}, Precio: {producto['precio']}€, Cantidad: {producto['cantidad']}\")\n",
    "\n",
    "    def buscar_producto(self, nombre):\n",
    "        for producto in self.inventario:\n",
    "            if producto['nombre'] == nombre:\n",
    "                print(f\"Nombre: {producto['nombre']}, Precio: {producto['precio']}€, Cantidad: {producto['cantidad']}\")\n",
    "                break\n",
    "        else:\n",
    "            print(\"Producto no encontrado en el inventario.\")\n",
    "\n",
    "    def actualizar_stock(self, nombre, cantidad):\n",
    "        for producto in self.inventario:\n",
    "            if producto['nombre'] == nombre:\n",
    "                producto['cantidad'] += cantidad\n",
    "                break\n",
    "        else:\n",
    "            print(\"Producto no encontrado en el inventario.\")\n",
    "\n",
    "    def eliminar_producto(self, nombre):\n",
    "        for producto in self.inventario:\n",
    "            if producto['nombre'] == nombre:\n",
    "                self.inventario.remove(producto)\n",
    "                break\n",
    "        else:\n",
    "            print(\"Producto no encontrado en el inventario.\")\n",
    "\n",
    "    def calcular_valor_inventario(self):\n",
    "        valor_total = sum(producto['precio'] * producto['cantidad'] for producto in self.inventario)\n",
    "        return valor_total\n",
    "\n",
    "    def realizar_compra(self):\n",
    "        carrito = []\n",
    "        \n",
    "        while True:\n",
    "            print(\"Inventario\")\n",
    "            \n",
    "            self.ver_inventario()\n",
    "            nombre = input(\"Ingrese el nombre del producto que desea comprar (o 'fin' para salir): \")\n",
    "            \n",
    "            if nombre == 'fin':\n",
    "                break\n",
    "            producto_encontrado = False\n",
    "            for producto in self.inventario:\n",
    "                if producto['nombre'] == nombre:\n",
    "                    cantidad = int(input(\"Ingrese la cantidad que desea comprar: \"))\n",
    "                    if cantidad <= producto['cantidad']:\n",
    "                        carrito.append({'nombre': nombre, 'precio': producto['precio'], 'cantidad': cantidad})\n",
    "                        producto['cantidad'] -= cantidad\n",
    "                        producto_encontrado = True\n",
    "                    else:\n",
    "                        print(\"No hay suficiente cantidad en stock.\")\n",
    "                    break\n",
    "                \n",
    "            if not producto_encontrado:\n",
    "                print(\"Producto no encontrado en el inventario.\")\n",
    "        \n",
    "        total = sum(item['precio'] * item['cantidad'] for item in carrito)\n",
    "        print(f\"El coste total de la compra es de {total}€\")\n",
    "        self.ventas_totales += total"
   ]
  },
  {
   "cell_type": "code",
   "execution_count": 97,
   "metadata": {},
   "outputs": [
    {
     "name": "stdout",
     "output_type": "stream",
     "text": [
      "[{'nombre': 'camiseta', 'precio': 20, 'cantidad': 40}, {'nombre': 'pantalon', 'precio': 30, 'cantidad': 20}, {'nombre': 'zapatos', 'precio': 50, 'cantidad': 40}, {'nombre': 'abrigo', 'precio': 80, 'cantidad': 30}]\n"
     ]
    }
   ],
   "source": [
    "mi_tienda = TiendaOnline()\n",
    "\n",
    "mi_tienda.agregar_producto('camiseta', 20, 40)\n",
    "mi_tienda.agregar_producto('pantalon', 30, 20)\n",
    "mi_tienda.agregar_producto('zapatos', 50, 40)\n",
    "mi_tienda.agregar_producto('abrigo', 80, 30)\n",
    "\n",
    "print(mi_tienda.inventario)"
   ]
  },
  {
   "cell_type": "code",
   "execution_count": 98,
   "metadata": {},
   "outputs": [
    {
     "name": "stdout",
     "output_type": "stream",
     "text": [
      "Nombre: abrigo, Precio: 80€, Cantidad: 30\n"
     ]
    }
   ],
   "source": [
    "mi_tienda.buscar_producto(\"abrigo\")"
   ]
  },
  {
   "cell_type": "code",
   "execution_count": 99,
   "metadata": {},
   "outputs": [
    {
     "name": "stdout",
     "output_type": "stream",
     "text": [
      "[{'nombre': 'camiseta', 'precio': 20, 'cantidad': 50}, {'nombre': 'pantalon', 'precio': 30, 'cantidad': 20}, {'nombre': 'zapatos', 'precio': 50, 'cantidad': 40}, {'nombre': 'abrigo', 'precio': 80, 'cantidad': 30}]\n"
     ]
    }
   ],
   "source": [
    "mi_tienda.actualizar_stock(\"camiseta\", 10)\n",
    "\n",
    "print(mi_tienda.inventario)"
   ]
  },
  {
   "cell_type": "code",
   "execution_count": 100,
   "metadata": {},
   "outputs": [
    {
     "name": "stdout",
     "output_type": "stream",
     "text": [
      "[{'nombre': 'camiseta', 'precio': 20, 'cantidad': 50}, {'nombre': 'pantalon', 'precio': 30, 'cantidad': 20}, {'nombre': 'zapatos', 'precio': 50, 'cantidad': 40}]\n"
     ]
    }
   ],
   "source": [
    "mi_tienda.eliminar_producto(\"abrigo\")\n",
    "\n",
    "print(mi_tienda.inventario)"
   ]
  },
  {
   "cell_type": "code",
   "execution_count": 101,
   "metadata": {},
   "outputs": [
    {
     "data": {
      "text/plain": [
       "3600"
      ]
     },
     "execution_count": 101,
     "metadata": {},
     "output_type": "execute_result"
    }
   ],
   "source": [
    "mi_tienda.calcular_valor_inventario()"
   ]
  },
  {
   "cell_type": "code",
   "execution_count": 102,
   "metadata": {},
   "outputs": [
    {
     "name": "stdout",
     "output_type": "stream",
     "text": [
      "Inventario\n",
      "Nombre: camiseta, Precio: 20€, Cantidad: 50\n",
      "Nombre: pantalon, Precio: 30€, Cantidad: 20\n",
      "Nombre: zapatos, Precio: 50€, Cantidad: 40\n",
      "Inventario\n",
      "Nombre: camiseta, Precio: 20€, Cantidad: 45\n",
      "Nombre: pantalon, Precio: 30€, Cantidad: 20\n",
      "Nombre: zapatos, Precio: 50€, Cantidad: 40\n",
      "El coste total de la compra es de 100€\n"
     ]
    }
   ],
   "source": [
    "mi_tienda.realizar_compra()"
   ]
  },
  {
   "cell_type": "markdown",
   "metadata": {},
   "source": [
    "EJERCICIOS VOLUNTARIOS"
   ]
  },
  {
   "cell_type": "code",
   "execution_count": 103,
   "metadata": {},
   "outputs": [
    {
     "name": "stdout",
     "output_type": "stream",
     "text": [
      "Pago realizado con exito. Su cambio es de: 4.5€\n"
     ]
    }
   ],
   "source": [
    "class TiendaOnline:\n",
    "    def __init__(self):\n",
    "        self.total = 0\n",
    "\n",
    "    def procesar_pago(self):\n",
    "        try:\n",
    "            total_compra = float(input(\"Ingrese la cantidad total de la compra: \"))\n",
    "            pago_cliente = float(input(\"Ingrese la cantidad de pago del cliente: \"))\n",
    "            \n",
    "            if pago_cliente < total_compra:\n",
    "                raise ValueError(\"La cantidad de pago es insuficiente.\")\n",
    "            \n",
    "            cambio = pago_cliente - total_compra\n",
    "            print(f\"Pago realizado con exito. Su cambio es de: {cambio:}€\")\n",
    "        \n",
    "        except ValueError:\n",
    "            print(f\"Error\")\n",
    "\n",
    "tienda = TiendaOnline()\n",
    "tienda.procesar_pago()"
   ]
  },
  {
   "cell_type": "code",
   "execution_count": 104,
   "metadata": {},
   "outputs": [],
   "source": [
    "class TiendaOnline:\n",
    "    \n",
    "    def __init__(self):\n",
    "        self.clientes = {}\n",
    "        self.ventas_totales = 0\n",
    "\n",
    "    def agregar_cliente(self, nombre, email):\n",
    "        self.clientes[nombre] = {'email': email, 'compras': []}\n",
    "        print(f\"Cliente {nombre} agregado con éxito.\")\n",
    "        \n",
    "    def ver_clientes(self):\n",
    "        print(\"Lista de clientes:\")\n",
    "        for nombre, cliente in self.clientes.items():\n",
    "            print(f\"Nombre: {nombre}, Correo electrónico: {cliente['email']}\")\n",
    "        \n",
    "    def registrar_compra(self, nombre_cliente, carrito):\n",
    "        if nombre_cliente not in self.clientes:\n",
    "            print(\"No se puede realizar la acción porque el cliente no está en el diccionario.\")\n",
    "            return\n",
    "\n",
    "        total_compra = sum(producto['precio'] * producto['cantidad'] for producto in carrito.values())\n",
    "\n",
    "        compra = {'productos': carrito, 'total': total_compra}\n",
    "        self.clientes[nombre_cliente]['compras'].append(compra)"
   ]
  },
  {
   "cell_type": "code",
   "execution_count": 105,
   "metadata": {},
   "outputs": [
    {
     "name": "stdout",
     "output_type": "stream",
     "text": [
      "Cliente Cliente1 agregado con éxito.\n",
      "Cliente Cliente2 agregado con éxito.\n",
      "Lista de clientes:\n",
      "Nombre: Cliente1, Correo electrónico: cliente1@email.com\n",
      "Nombre: Cliente2, Correo electrónico: cliente2@gmail.com\n",
      "{'Cliente1': {'email': 'cliente1@email.com', 'compras': [{'productos': {'camiseta': {'precio': 20, 'cantidad': 2}}, 'total': 40}]}, 'Cliente2': {'email': 'cliente2@gmail.com', 'compras': []}}\n"
     ]
    }
   ],
   "source": [
    "mi_tienda = TiendaOnline()\n",
    "\n",
    "mi_tienda.agregar_cliente('Cliente1', 'cliente1@email.com')\n",
    "mi_tienda.agregar_cliente(\"Cliente2\", \"cliente2@gmail.com\")\n",
    "\n",
    "mi_tienda.ver_clientes()\n",
    "\n",
    "carrito_cliente1 = {'camiseta': {'precio': 20, 'cantidad': 2}}\n",
    "\n",
    "mi_tienda.registrar_compra('Cliente1', carrito_cliente1)\n",
    "\n",
    "print(mi_tienda.clientes)"
   ]
  },
  {
   "cell_type": "markdown",
   "metadata": {},
   "source": [
    "15. ver_compras_cliente(self, nombre_cliente): Muestra el historial de compras de un cliente. Debe recibir el nombre del cliente como parámetro.\n",
    "\n",
    "- Busca al cliente en el diccionario de clientes.\n",
    "\n",
    "- Muestra las compras realizadas por el cliente, incluyendo detalles de productos y totales.\n",
    "\n"
   ]
  },
  {
   "cell_type": "markdown",
   "metadata": {},
   "source": [
    "16. calcular_ventas_totales(self): Muestra las ventas totales de la tienda.\n",
    "\n",
    "- Suma los totales de todas las compras realizadas y muestra el total de ventas totales en la tienda.\n"
   ]
  }
 ],
 "metadata": {
  "kernelspec": {
   "display_name": "base",
   "language": "python",
   "name": "python3"
  },
  "language_info": {
   "codemirror_mode": {
    "name": "ipython",
    "version": 3
   },
   "file_extension": ".py",
   "mimetype": "text/x-python",
   "name": "python",
   "nbconvert_exporter": "python",
   "pygments_lexer": "ipython3",
   "version": "3.9.7"
  }
 },
 "nbformat": 4,
 "nbformat_minor": 2
}
